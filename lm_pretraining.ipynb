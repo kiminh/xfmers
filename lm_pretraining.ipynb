{
 "cells": [
  {
   "cell_type": "code",
   "execution_count": 1,
   "metadata": {},
   "outputs": [],
   "source": [
    "import os\n",
    "#os.environ[\"CUDA_DEVICE_ORDER\"] = \"PCI_BUS_ID\"\n",
    "#os.environ[\"CUDA_VISIBLE_DEVICES\"] = \"2,3\"\n",
    "\n",
    "import numpy as np\n",
    "from tqdm import tqdm, trange\n",
    "from matplotlib import pyplot as plt\n",
    "\n",
    "import tensorflow as tf\n",
    "import tensorflow_datasets as tfds\n",
    "\n",
    "tf.config.optimizer.set_jit(True)\n",
    "tf.config.optimizer.set_experimental_options({\"auto_mixed_precision\": True})\n",
    "\n",
    "from nvstatsrecorder.callbacks import NVStats, NVLinkStats\n",
    "\n",
    "from xfmers import models\n",
    "from xfmers import utils\n",
    "from xfmers import ops"
   ]
  },
  {
   "cell_type": "code",
   "execution_count": 2,
   "metadata": {},
   "outputs": [
    {
     "name": "stdout",
     "output_type": "stream",
     "text": [
      "INFO:tensorflow:Using MirroredStrategy with devices ('/job:localhost/replica:0/task:0/device:GPU:0', '/job:localhost/replica:0/task:0/device:GPU:1', '/job:localhost/replica:0/task:0/device:GPU:2', '/job:localhost/replica:0/task:0/device:GPU:3')\n",
      "Number of devices: 4\n",
      "Batch size: 640\n"
     ]
    }
   ],
   "source": [
    "MAX_SEQ_LEN = 80\n",
    "BATCH_SIZE = 160\n",
    "EPOCHS = 10\n",
    "BUFFER_SIZE = 10000000\n",
    "\n",
    "NUM_LAYERS = 6\n",
    "NUM_HEADS = 12\n",
    "D_MODEL = NUM_HEADS * 64\n",
    "FF_UNITS = D_MODEL * 4\n",
    "DROPOUT = 0.1\n",
    "WEIGHT_SHARING = False\n",
    "EFFICIENT_ATTENTION = False\n",
    "SHARED_QK = False\n",
    "CONV_FILTER = 1\n",
    "CONV_PADDING = \"same\"\n",
    "ACTIVATION = ops.gelu\n",
    "REVERSIBLE = False\n",
    "FUSED_QKV = False\n",
    "CAUSAL = True\n",
    "\n",
    "strategy = tf.distribute.MirroredStrategy()\n",
    "print('Number of devices: {}'.format(strategy.num_replicas_in_sync))\n",
    "BATCH_SIZE *= strategy.num_replicas_in_sync\n",
    "print(\"Batch size:\", BATCH_SIZE)"
   ]
  },
  {
   "cell_type": "code",
   "execution_count": 3,
   "metadata": {},
   "outputs": [
    {
     "name": "stdout",
     "output_type": "stream",
     "text": [
      "Character set: [' ', 'a', 'b', 'c', 'd', 'e', 'f', 'g', 'h', 'i', 'j', 'k', 'l', 'm', 'n', 'o', 'p', 'q', 'r', 's', 't', 'u', 'v', 'w', 'x', 'y', 'z']\n",
      "Vocab size: 28\n"
     ]
    }
   ],
   "source": [
    "def load_text8(text8_path, num_char=None):\n",
    "    with open(text8_path, 'r', encoding=\"utf8\") as file:\n",
    "        data = file.read().replace('\\n', ' ').strip()\n",
    "        data = data.replace(\"  \", \" \")\n",
    "    if num_char:\n",
    "        data = data[:num_char]\n",
    "    return data.strip()\n",
    "\n",
    "text_8_train = load_text8(\"./data/train.txt.raw\")\n",
    "char_set = list(set(list(text_8_train)))\n",
    "char_set.sort()\n",
    "print(\"Character set:\", char_set)\n",
    "len_corpus = len(text_8_train)\n",
    "\n",
    "tokenizer = tf.keras.preprocessing.text.Tokenizer(num_words=len(char_set), char_level=True)\n",
    "tokenizer.fit_on_texts([\"\".join(char_set)])\n",
    "\n",
    "VOCAB_SIZE = tokenizer.num_words + 1\n",
    "print(\"Vocab size:\", VOCAB_SIZE)"
   ]
  },
  {
   "cell_type": "code",
   "execution_count": 4,
   "metadata": {},
   "outputs": [
    {
     "name": "stdout",
     "output_type": "stream",
     "text": [
      "Encoding corpus...\n",
      "anarchism originated as a term of abuse first used against early working class r\n",
      "[2, 15, 2, 19, 4, 9, 10, 20, 14, 1, 16, 19, 10, 8, 10, 15, 2, 21, 6, 5, 1, 2, 20, 1, 2, 1, 21, 6, 19, 14, 1, 16, 7, 1, 2, 3, 22, 20, 6, 1, 7, 10, 19, 20, 21, 1, 22, 20, 6, 5, 1, 2, 8, 2, 10, 15, 20, 21, 1, 6, 2, 19, 13, 26, 1, 24, 16, 19, 12, 10, 15, 8, 1, 4, 13, 2, 20, 20, 1, 19]\n",
      "Done! Token count: 89999999\n",
      "Generating sequences...\n"
     ]
    },
    {
     "name": "stderr",
     "output_type": "stream",
     "text": [
      "100%|██████████| 5624995/5624995 [00:27<00:00, 206237.56it/s]"
     ]
    },
    {
     "name": "stdout",
     "output_type": "stream",
     "text": [
      "Done!\n",
      "Training sequences: (5624995, 81)\n"
     ]
    },
    {
     "name": "stderr",
     "output_type": "stream",
     "text": [
      "\n"
     ]
    }
   ],
   "source": [
    "def prepare_sequences(corpus, tokenizer, interval=1, seq_len=512):\n",
    "    \"\"\"Tokenize, filter and pad sentences\"\"\"\n",
    "    print(\"Encoding corpus...\")\n",
    "    print(corpus[:MAX_SEQ_LEN])\n",
    "    corpus = tokenizer.texts_to_sequences([corpus])[0]\n",
    "    print(corpus[:MAX_SEQ_LEN])\n",
    "    total_words = len(corpus)\n",
    "    print(\"Done! Token count:\", total_words)\n",
    "    print(\"Generating sequences...\")\n",
    "    list_seq = []\n",
    "    for i in trange(0, total_words-seq_len, interval):\n",
    "        seq = corpus[i:i+seq_len+1]\n",
    "        list_seq.append(seq)\n",
    "    print(\"Done!\")\n",
    "    return np.asarray(list_seq, dtype=\"int\")\n",
    "\n",
    "list_seq = prepare_sequences(text_8_train, tokenizer, interval=16, seq_len=MAX_SEQ_LEN)\n",
    "\n",
    "del text_8_train\n",
    "\n",
    "print(\"Training sequences:\", list_seq.shape)"
   ]
  },
  {
   "cell_type": "code",
   "execution_count": 5,
   "metadata": {},
   "outputs": [
    {
     "name": "stdout",
     "output_type": "stream",
     "text": [
      "Encoding corpus...\n",
      "e the capital of one government after another one of such governments was establ\n"
     ]
    },
    {
     "name": "stderr",
     "output_type": "stream",
     "text": [
      " 61%|██████▏   | 95881/156248 [00:00<00:00, 410952.48it/s]"
     ]
    },
    {
     "name": "stdout",
     "output_type": "stream",
     "text": [
      "[6, 1, 21, 9, 6, 1, 4, 2, 17, 10, 21, 2, 13, 1, 16, 7, 1, 16, 15, 6, 1, 8, 16, 23, 6, 19, 15, 14, 6, 15, 21, 1, 2, 7, 21, 6, 19, 1, 2, 15, 16, 21, 9, 6, 19, 1, 16, 15, 6, 1, 16, 7, 1, 20, 22, 4, 9, 1, 8, 16, 23, 6, 19, 15, 14, 6, 15, 21, 20, 1, 24, 2, 20, 1, 6, 20, 21, 2, 3, 13]\n",
      "Done! Token count: 4999999\n",
      "Generating sequences...\n"
     ]
    },
    {
     "name": "stderr",
     "output_type": "stream",
     "text": [
      "100%|██████████| 156248/156248 [00:00<00:00, 529642.54it/s]\n"
     ]
    },
    {
     "name": "stdout",
     "output_type": "stream",
     "text": [
      "Done!\n",
      "Validation sequences: (156248, 81)\n"
     ]
    }
   ],
   "source": [
    "text_8_val = load_text8(\"./data/valid.txt.raw\")\n",
    "\n",
    "list_seq_val = prepare_sequences(text_8_val, tokenizer, interval=32, seq_len=MAX_SEQ_LEN)\n",
    "\n",
    "del text_8_val\n",
    "\n",
    "print(\"Validation sequences:\", list_seq_val.shape)"
   ]
  },
  {
   "cell_type": "code",
   "execution_count": 6,
   "metadata": {},
   "outputs": [
    {
     "name": "stdout",
     "output_type": "stream",
     "text": [
      "Train for 8789\n",
      "Valid for 244\n"
     ]
    }
   ],
   "source": [
    "# training\n",
    "\n",
    "dataset = tf.data.Dataset.from_tensor_slices(({'inputs': list_seq[:,:-1]},\n",
    "                                              {'outputs': list_seq[:,1:]},))\n",
    "dataset = dataset.repeat(-1)\n",
    "dataset = dataset.shuffle(BUFFER_SIZE)\n",
    "dataset = dataset.batch(BATCH_SIZE)\n",
    "dataset = dataset.prefetch(32)\n",
    "_ = dataset.take(1)\n",
    "\n",
    "# validation\n",
    "\n",
    "val_dataset = tf.data.Dataset.from_tensor_slices(({'inputs': list_seq_val[:,:-1]},\n",
    "                                                  {'outputs': list_seq_val[:,1:]},))\n",
    "val_dataset = val_dataset.repeat(-1)\n",
    "val_dataset = val_dataset.shuffle(BUFFER_SIZE)\n",
    "val_dataset = val_dataset.batch(BATCH_SIZE)\n",
    "val_dataset = val_dataset.prefetch(32)\n",
    "_ = val_dataset.take(1)\n",
    "\n",
    "train_steps = int(list_seq.shape[0]/BATCH_SIZE)\n",
    "valid_steps = int(list_seq_val.shape[0]/BATCH_SIZE)\n",
    "\n",
    "print(\"Train for\", train_steps)\n",
    "print(\"Valid for\", valid_steps)"
   ]
  },
  {
   "cell_type": "code",
   "execution_count": 7,
   "metadata": {},
   "outputs": [
    {
     "name": "stdout",
     "output_type": "stream",
     "text": [
      "INFO:tensorflow:Reduce to /job:localhost/replica:0/task:0/device:CPU:0 then broadcast to ('/job:localhost/replica:0/task:0/device:CPU:0',).\n",
      "INFO:tensorflow:Reduce to /job:localhost/replica:0/task:0/device:CPU:0 then broadcast to ('/job:localhost/replica:0/task:0/device:CPU:0',).\n"
     ]
    }
   ],
   "source": [
    "with strategy.scope():\n",
    "    model = models.Transformer(\n",
    "        vocab_size=VOCAB_SIZE,\n",
    "        dec_layers=NUM_LAYERS,\n",
    "        ff_units=FF_UNITS,\n",
    "        d_model=D_MODEL,\n",
    "        num_heads=NUM_HEADS,\n",
    "        dropout=DROPOUT,\n",
    "        max_seq_len=MAX_SEQ_LEN,\n",
    "        weight_sharing=WEIGHT_SHARING,\n",
    "        efficient_attention=EFFICIENT_ATTENTION,\n",
    "        shared_qk=SHARED_QK,\n",
    "        activation=ACTIVATION,\n",
    "        reversible=REVERSIBLE,\n",
    "        fused_qkv=FUSED_QKV,\n",
    "        causal=CAUSAL\n",
    "    )\n",
    "    epoch_div_2 = int(EPOCHS/2)\n",
    "    learning_rate = utils.WarmupExpDecay(\n",
    "        epoch_steps=train_steps,\n",
    "        base_lr=1e-4,\n",
    "        min_lr=1e-8,\n",
    "        decay_exp=2,\n",
    "        warmup_epochs=1,\n",
    "        flat_epochs=epoch_div_2,\n",
    "        max_epochs=EPOCHS,\n",
    "    )\n",
    "    opt = tf.keras.optimizers.Adam(learning_rate, epsilon=1e-8)\n",
    "    opt = tf.keras.mixed_precision.experimental.LossScaleOptimizer(opt, \"dynamic\")\n",
    "    lossfn = tf.keras.losses.SparseCategoricalCrossentropy(from_logits=True)\n",
    "    acc = tf.keras.metrics.SparseCategoricalAccuracy(name=\"acc\")\n",
    "    model.compile(optimizer=opt,\n",
    "                  loss=lossfn,\n",
    "                  metrics=[utils.bpc])"
   ]
  },
  {
   "cell_type": "code",
   "execution_count": 8,
   "metadata": {},
   "outputs": [
    {
     "data": {
      "image/png": "[encoded data removed]",
      "text/plain": [
       "<Figure size 432x288 with 1 Axes>"
      ]
     },
     "metadata": {
      "needs_background": "light"
     },
     "output_type": "display_data"
    }
   ],
   "source": [
    "plt.plot(learning_rate(tf.range(train_steps*(EPOCHS-1), dtype=tf.float32)))\n",
    "plt.axvline(train_steps, linestyle=\"--\",  color=\"g\", label=\"epoch 1\")\n",
    "plt.axvline(train_steps*epoch_div_2, linestyle=\"--\", color=\"k\", label=\"epoch \"+str(epoch_div_2))\n",
    "plt.title(\"Learning Rate Schedule\")\n",
    "plt.ylabel(\"Learning Rate\")\n",
    "plt.xlabel(\"Train Step\")\n",
    "plt.legend()\n",
    "plt.show()"
   ]
  },
  {
   "cell_type": "code",
   "execution_count": 9,
   "metadata": {},
   "outputs": [
    {
     "name": "stdout",
     "output_type": "stream",
     "text": [
      "Model: \"Transformer\"\n",
      "__________________________________________________________________________________________________\n",
      "Layer (type)                    Output Shape         Param #     Connected to                     \n",
      "==================================================================================================\n",
      "inputs (InputLayer)             [(None, None)]       0                                            \n",
      "__________________________________________________________________________________________________\n",
      "PaddingMaskGenerator (PaddingMa (None, 1, 1, None)   0           inputs[0][0]                     \n",
      "__________________________________________________________________________________________________\n",
      "TokenPosEmbedding (TokenPosEmbe (None, None, 768)    82944       inputs[0][0]                     \n",
      "__________________________________________________________________________________________________\n",
      "DecoderBlock (TransformerStack) (None, None, 768)    63760896    PaddingMaskGenerator[0][0]       \n",
      "                                                                 TokenPosEmbedding[0][0]          \n",
      "__________________________________________________________________________________________________\n",
      "outputs (Dense)                 (None, None, 28)     21532       DecoderBlock[0][0]               \n",
      "==================================================================================================\n",
      "Total params: 63,865,372\n",
      "Trainable params: 63,865,372\n",
      "Non-trainable params: 0\n",
      "__________________________________________________________________________________________________\n"
     ]
    }
   ],
   "source": [
    "model.summary()"
   ]
  },
  {
   "cell_type": "code",
   "execution_count": 10,
   "metadata": {},
   "outputs": [
    {
     "name": "stdout",
     "output_type": "stream",
     "text": [
      "[NVLinkStats] Watching: [0, 1, 2, 3]\n"
     ]
    }
   ],
   "source": [
    "nv_stats = NVStats(gpu_index=3, interval=15)\n",
    "nvlink_stats = NVLinkStats(\"volta\", gpus=[0,1,2,3], interval=15)\n",
    "time_history = utils.TimeHistory(eg_per_epoch=train_steps*BATCH_SIZE)\n",
    "callbacks = [\n",
    "    time_history,\n",
    "#    nv_stats,\n",
    "#    nvlink_stats\n",
    "]"
   ]
  },
  {
   "cell_type": "code",
   "execution_count": null,
   "metadata": {},
   "outputs": [
    {
     "name": "stdout",
     "output_type": "stream",
     "text": [
      "Train for 8789 steps, validate for 244 steps\n",
      "Epoch 1/10\n",
      "INFO:tensorflow:Reduce to /job:localhost/replica:0/task:0/device:CPU:0 then broadcast to ('/job:localhost/replica:0/task:0/device:CPU:0',).\n",
      "INFO:tensorflow:batch_all_reduce: 76 all-reduces with algorithm = nccl, num_packs = 1, agg_small_grads_max_bytes = 0 and agg_small_grads_max_group = 10\n",
      "INFO:tensorflow:Reduce to /job:localhost/replica:0/task:0/device:CPU:0 then broadcast to ('/job:localhost/replica:0/task:0/device:CPU:0',).\n",
      "INFO:tensorflow:Reduce to /job:localhost/replica:0/task:0/device:CPU:0 then broadcast to ('/job:localhost/replica:0/task:0/device:CPU:0',).\n",
      "INFO:tensorflow:Reduce to /job:localhost/replica:0/task:0/device:CPU:0 then broadcast to ('/job:localhost/replica:0/task:0/device:CPU:0',).\n",
      "INFO:tensorflow:Reduce to /job:localhost/replica:0/task:0/device:CPU:0 then broadcast to ('/job:localhost/replica:0/task:0/device:CPU:0',).\n",
      "INFO:tensorflow:Reduce to /job:localhost/replica:0/task:0/device:CPU:0 then broadcast to ('/job:localhost/replica:0/task:0/device:CPU:0',).\n",
      "INFO:tensorflow:batch_all_reduce: 76 all-reduces with algorithm = nccl, num_packs = 1, agg_small_grads_max_bytes = 0 and agg_small_grads_max_group = 10\n",
      "INFO:tensorflow:Reduce to /job:localhost/replica:0/task:0/device:CPU:0 then broadcast to ('/job:localhost/replica:0/task:0/device:CPU:0',).\n",
      "INFO:tensorflow:Reduce to /job:localhost/replica:0/task:0/device:CPU:0 then broadcast to ('/job:localhost/replica:0/task:0/device:CPU:0',).\n",
      "4659/8789 [==============>...............] - ETA: 12:19 - loss: 1.8581 - bpc: 2.7024"
     ]
    }
   ],
   "source": [
    "with strategy.scope():\n",
    "    model.fit(dataset, epochs=EPOCHS, steps_per_epoch=train_steps,\n",
    "              validation_data=val_dataset, validation_steps=valid_steps,\n",
    "              verbose=1, callbacks=callbacks)\n",
    "    \n",
    "epoch_time = min(time_history.times)\n",
    "tokens_per_epoch = BATCH_SIZE*train_steps*MAX_SEQ_LEN\n",
    "print(\"Tokens/sec:\", int(tokens_per_epoch/epoch_time))"
   ]
  },
  {
   "cell_type": "code",
   "execution_count": null,
   "metadata": {},
   "outputs": [],
   "source": [
    "#nv_stats_recorder = nv_stats.recorder\n",
    "#nv_stats_recorder.plot_gpu_util(smooth=10)"
   ]
  },
  {
   "cell_type": "code",
   "execution_count": null,
   "metadata": {},
   "outputs": [],
   "source": [
    "#nvlink_stats_recorder = nvlink_stats.recorder\n",
    "#nvlink_stats_recorder.plot_nvlink_traffic(smooth=10)"
   ]
  },
  {
   "cell_type": "code",
   "execution_count": null,
   "metadata": {},
   "outputs": [],
   "source": []
  }
 ],
 "metadata": {
  "kernelspec": {
   "display_name": "Python 3",
   "language": "python",
   "name": "python3"
  },
  "language_info": {
   "codemirror_mode": {
    "name": "ipython",
    "version": 3
   },
   "file_extension": ".py",
   "mimetype": "text/x-python",
   "name": "python",
   "nbconvert_exporter": "python",
   "pygments_lexer": "ipython3",
   "version": "3.6.10"
  }
 },
 "nbformat": 4,
 "nbformat_minor": 4
}
