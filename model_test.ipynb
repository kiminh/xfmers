{
 "cells": [
  {
   "cell_type": "code",
   "execution_count": 1,
   "metadata": {},
   "outputs": [],
   "source": [
    "import numpy as np\n",
    "import tensorflow as tf\n",
    "from xfmers import utils\n",
    "from xfmers import ops\n",
    "from xfmers import layers"
   ]
  },
  {
   "cell_type": "code",
   "execution_count": 2,
   "metadata": {},
   "outputs": [],
   "source": [
    "def Transformer(vocab_size, dec_layers, ff_units, d_model, num_heads, dropout, max_seq_len=512, causal=False,\n",
    "                       weight_sharing=False, efficient_attention=False, shared_qk=False, activation=ops.gelu,\n",
    "                       conv_filter=1, conv_padding=\"same\", reversible=False, fused_qkv=False, name=\"Transformer\"):\n",
    "    inputs = tf.keras.Input(shape=(None, ), name=\"inputs\")\n",
    "    padding_mask = layers.PaddingMaskGenerator()(inputs)\n",
    "    embeddings = layers.TokenPosEmbedding(d_vocab=vocab_size, d_model=d_model, pos_length=max_seq_len, scale=1)(inputs)\n",
    "    \n",
    "    decoder_block = layers.TransformerStack(layers=dec_layers,\n",
    "                                            ff_units=ff_units,\n",
    "                                            d_model=d_model,\n",
    "                                            num_heads=num_heads,\n",
    "                                            dropout=dropout,\n",
    "                                            causal=causal,\n",
    "                                            activation=activation,\n",
    "                                            weight_sharing=weight_sharing,\n",
    "                                            conv_filter=conv_filter,\n",
    "                                            conv_padding=conv_padding,\n",
    "                                            reversible=reversible,\n",
    "                                            fused_qkv=fused_qkv,\n",
    "                                            name=\"DecoderBlock\")\n",
    "    dec_outputs = decoder_block({\"token_inputs\": embeddings,\n",
    "                                 \"mask_inputs\": padding_mask})\n",
    "    \n",
    "    l_dropout = tf.keras.layers.Dropout(rate=dropout)(dec_outputs)\n",
    "    \n",
    "    preds = tf.keras.layers.Dense(vocab_size, name=\"outputs\")(l_dropout)\n",
    "    \n",
    "    return tf.keras.Model(inputs=inputs, outputs=preds, name=name)"
   ]
  },
  {
   "cell_type": "code",
   "execution_count": 8,
   "metadata": {},
   "outputs": [
    {
     "name": "stdout",
     "output_type": "stream",
     "text": [
      "Model: \"Transformer\"\n",
      "__________________________________________________________________________________________________\n",
      "Layer (type)                    Output Shape         Param #     Connected to                     \n",
      "==================================================================================================\n",
      "inputs (InputLayer)             [(None, None)]       0                                            \n",
      "__________________________________________________________________________________________________\n",
      "PaddingMaskGenerator (PaddingMa (None, 1, 1, None)   0           inputs[0][0]                     \n",
      "__________________________________________________________________________________________________\n",
      "TokenPosEmbedding (TokenPosEmbe (None, None, 768)    6391296     inputs[0][0]                     \n",
      "__________________________________________________________________________________________________\n",
      "DecoderBlock (TransformerStack) (None, None, 768)    85054464    PaddingMaskGenerator[0][0]       \n",
      "                                                                 TokenPosEmbedding[0][0]          \n",
      "__________________________________________________________________________________________________\n",
      "dropout_51 (Dropout)            (None, None, 768)    0           DecoderBlock[0][0]               \n",
      "__________________________________________________________________________________________________\n",
      "outputs (Dense)                 (None, None, 8192)   6299648     dropout_51[0][0]                 \n",
      "==================================================================================================\n",
      "Total params: 97,745,408\n",
      "Trainable params: 97,745,408\n",
      "Non-trainable params: 0\n",
      "__________________________________________________________________________________________________\n"
     ]
    }
   ],
   "source": [
    "model = Transformer(vocab_size=8192,\n",
    "                    dec_layers=12,\n",
    "                    ff_units=3072,\n",
    "                    d_model=768,\n",
    "                    num_heads=12,\n",
    "                    dropout=0.1,\n",
    "                    max_seq_len=128,\n",
    "                    fused_qkv=True,\n",
    "                    causal=True)\n",
    "model.summary()"
   ]
  },
  {
   "cell_type": "code",
   "execution_count": 4,
   "metadata": {},
   "outputs": [
    {
     "name": "stdout",
     "output_type": "stream",
     "text": [
      "WARNING:tensorflow:Layer TransformerLayer is casting an input tensor from dtype float64 to the layer's dtype of float32, which is new behavior in TensorFlow 2.  The layer has dtype float32 because it's dtype defaults to floatx.\n",
      "\n",
      "If you intended to run this layer in float32, you can safely ignore this warning. If in doubt, this warning is likely only an issue if you are porting a TensorFlow 1.X model to TensorFlow 2.\n",
      "\n",
      "To change all layers to have dtype float64 by default, call `tf.keras.backend.set_floatx('float64')`. To change just this layer, pass dtype='float64' to the layer constructor. If you are the author of this layer, you can disable autocasting by passing autocast=False to the base Layer constructor.\n",
      "\n"
     ]
    }
   ],
   "source": [
    "tlayer = layers.TransformerLayer(ff_units=768*4, d_model=768, num_heads=12, dropout=0.01, causal=True)\n",
    "_ = tlayer({\"token_inputs\": np.zeros((1,128,768)),\n",
    "            \"mask_inputs\": np.zeros((1,128,1))})"
   ]
  },
  {
   "cell_type": "code",
   "execution_count": 5,
   "metadata": {},
   "outputs": [
    {
     "name": "stdout",
     "output_type": "stream",
     "text": [
      "Model: \"TransformerLayer\"\n",
      "_________________________________________________________________\n",
      "Layer (type)                 Output Shape              Param #   \n",
      "=================================================================\n",
      "TransformerLayer_MultiHeadAt multiple                  2362368   \n",
      "_________________________________________________________________\n",
      "dropout_25 (Dropout)         multiple                  0         \n",
      "_________________________________________________________________\n",
      "layer_normalization_25 (Laye multiple                  1536      \n",
      "_________________________________________________________________\n",
      "conv1d_24 (Conv1D)           multiple                  2362368   \n",
      "_________________________________________________________________\n",
      "activation_12 (Activation)   multiple                  0         \n",
      "_________________________________________________________________\n",
      "conv1d_25 (Conv1D)           multiple                  2360064   \n",
      "_________________________________________________________________\n",
      "dropout_26 (Dropout)         multiple                  0         \n",
      "_________________________________________________________________\n",
      "layer_normalization_26 (Laye multiple                  1536      \n",
      "=================================================================\n",
      "Total params: 7,087,872\n",
      "Trainable params: 7,087,872\n",
      "Non-trainable params: 0\n",
      "_________________________________________________________________\n"
     ]
    }
   ],
   "source": [
    "tlayer.summary()"
   ]
  },
  {
   "cell_type": "code",
   "execution_count": 6,
   "metadata": {},
   "outputs": [
    {
     "name": "stdout",
     "output_type": "stream",
     "text": [
      "name: TransformerLayer_MultiHeadAttention  - params: 2362368\n",
      "name: dropout_25  - params: 0\n",
      "name: layer_normalization_25  - params: 1536\n",
      "name: conv1d_24  - params: 2362368\n",
      "name: activation_12  - params: 0\n",
      "name: conv1d_25  - params: 2360064\n",
      "name: dropout_26  - params: 0\n",
      "name: layer_normalization_26  - params: 1536\n"
     ]
    }
   ],
   "source": [
    "for layer in tlayer.layers:\n",
    "    print(\"name:\", layer.name, \" - params:\", layer.count_params())"
   ]
  },
  {
   "cell_type": "code",
   "execution_count": 7,
   "metadata": {},
   "outputs": [
    {
     "name": "stdout",
     "output_type": "stream",
     "text": [
      "Model: \"TransformerLayer_MultiHeadAttention\"\n",
      "_________________________________________________________________\n",
      "Layer (type)                 Output Shape              Param #   \n",
      "=================================================================\n",
      "d_query (Dense)              multiple                  590592    \n",
      "_________________________________________________________________\n",
      "d_key (Dense)                multiple                  590592    \n",
      "_________________________________________________________________\n",
      "d_value (Dense)              multiple                  590592    \n",
      "_________________________________________________________________\n",
      "d_mha_final (Dense)          multiple                  590592    \n",
      "=================================================================\n",
      "Total params: 2,362,368\n",
      "Trainable params: 2,362,368\n",
      "Non-trainable params: 0\n",
      "_________________________________________________________________\n"
     ]
    }
   ],
   "source": [
    "tlayer.layers[0].summary()"
   ]
  },
  {
   "cell_type": "code",
   "execution_count": null,
   "metadata": {},
   "outputs": [],
   "source": []
  }
 ],
 "metadata": {
  "kernelspec": {
   "display_name": "Python 3",
   "language": "python",
   "name": "python3"
  },
  "language_info": {
   "codemirror_mode": {
    "name": "ipython",
    "version": 3
   },
   "file_extension": ".py",
   "mimetype": "text/x-python",
   "name": "python",
   "nbconvert_exporter": "python",
   "pygments_lexer": "ipython3",
   "version": "3.6.10"
  }
 },
 "nbformat": 4,
 "nbformat_minor": 4
}
