{
 "cells": [
  {
   "cell_type": "code",
   "execution_count": 1,
   "metadata": {},
   "outputs": [],
   "source": [
    "import time\n",
    "import tensorflow as tf\n",
    "import tensorflow_datasets as tfds"
   ]
  },
  {
   "cell_type": "code",
   "execution_count": 2,
   "metadata": {},
   "outputs": [],
   "source": [
    "def load_text8(text8_path, num_char=None):\n",
    "    with open(text8_path, \"r\", encoding=\"utf8\") as file:\n",
    "        data = file.read().replace(\"\\n\", \" \").strip()\n",
    "        data = data.replace(\"  \", \" \")\n",
    "    if num_char:\n",
    "        data = data[:num_char]\n",
    "    return data.strip()"
   ]
  },
  {
   "cell_type": "code",
   "execution_count": 3,
   "metadata": {},
   "outputs": [],
   "source": [
    "text_8_train = load_text8(\"./data/train.txt.raw\")"
   ]
  },
  {
   "cell_type": "code",
   "execution_count": 4,
   "metadata": {},
   "outputs": [],
   "source": [
    "start_time = time.time()\n",
    "tokenizer = tfds.features.text.SubwordTextEncoder.build_from_corpus([text_8_train],\n",
    "                                                                    target_vocab_size=5120)\n",
    "end_time = time.time()"
   ]
  },
  {
   "cell_type": "code",
   "execution_count": 5,
   "metadata": {},
   "outputs": [
    {
     "name": "stdout",
     "output_type": "stream",
     "text": [
      "Summary\n",
      "=======\n",
      "Vocab size: 5106\n",
      "     Mod 8: 2\n",
      "    Mod 80: 66\n",
      "  Saved to: ./subwords/text8vocab\n",
      "Time taken: 346\n"
     ]
    }
   ],
   "source": [
    "outdir = \"./subwords/text8vocab\"\n",
    "tokenizer.save_to_file(outdir)\n",
    "print(\"Summary\")\n",
    "print(\"=======\")\n",
    "print(\"Vocab size:\", tokenizer.vocab_size)\n",
    "print(\"     Mod 8:\", tokenizer.vocab_size%8)\n",
    "print(\"    Mod 80:\", tokenizer.vocab_size%80)\n",
    "print(\"  Saved to:\", outdir)\n",
    "print(\"Time taken:\", int(end_time-start_time))"
   ]
  },
  {
   "cell_type": "code",
   "execution_count": null,
   "metadata": {},
   "outputs": [],
   "source": []
  }
 ],
 "metadata": {
  "kernelspec": {
   "display_name": "Python 3",
   "language": "python",
   "name": "python3"
  },
  "language_info": {
   "codemirror_mode": {
    "name": "ipython",
    "version": 3
   },
   "file_extension": ".py",
   "mimetype": "text/x-python",
   "name": "python",
   "nbconvert_exporter": "python",
   "pygments_lexer": "ipython3",
   "version": "3.6.10"
  }
 },
 "nbformat": 4,
 "nbformat_minor": 4
}
